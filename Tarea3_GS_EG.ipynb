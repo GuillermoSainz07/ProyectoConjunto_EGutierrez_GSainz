{
 "cells": [
  {
   "cell_type": "markdown",
   "metadata": {},
   "source": [
    "<img style=\"float: left; margin: 30px 15px 15px 15px;\" src=\"https://upload.wikimedia.org/wikipedia/commons/d/db/Logo_ITESO_normal.jpg\" width=\"300\" height=\"500\" /> \n",
    "    \n",
    "    \n",
    "### Simulación de procesos financieros. \n",
    "\n",
    "**Nombres:** `[Jesús Guillermo Sainz Zárate, Eduardo Gutiérrez Flores]`\n",
    "\n",
    "**Fecha:** 21 de febrero del 2024.\n",
    "\n",
    "**Expediente** : `[7530501,741305]`.\n",
    "**Profesor:** Oscar David Jaramillo Zuluaga.\n",
    "    \n",
    "**Link Github**: https://github.com/GuillermoSainz07/ProyectoConjunto_EGutierrez_GSainz\n",
    "\n",
    "# Tarea 4: Clase 8\n"
   ]
  },
  {
   "cell_type": "markdown",
   "metadata": {},
   "source": [
    "# Ejercicio 1\n",
    "Como ejemplo simple de una simulación de Monte Carlo, considere calcular la probabilidad de una suma particular del lanzamiento de tres dados (cada dado tiene valores del uno al seis). Además cada dado tiene las siguientes carácterísticas: el primer dado no está cargado (distribución uniforme todos son equiprobables); el segundo y tercer dado están cargados basados en una distribución binomial con parámetros (`n=5, p=0.5` y `n=5, p=0.2`). Calcule la probabilidad de que la suma resultante sea 7, 14 o 18. "
   ]
  },
  {
   "cell_type": "markdown",
   "metadata": {},
   "source": [
    "# Ejercicio 2\n",
    "En un casino, un jugador está jugando a lanzar un dado justo de 6 caras. Si el jugador lanza un número par, el casino paga $\\$1$ al jugador, de lo contrario, el jugador paga $\\$1$ al casino. El jugador decide jugar 100 veces.\n",
    "\n",
    "1. ¿Cuál es la probabilidad de que un jugador gane dinero después de 100 lanzamientos del dado bajo las reglas del juego (el casino paga $\\$1$ si el resultado es par y el jugador paga $\\$1$ si es impar)?\n",
    "\n",
    "2. ¿Cómo afectaría el cambio en las reglas del juego (por ejemplo, el casino paga $\\$2$ si el resultado es par y el jugador paga $\\$1$ si es impar) a la ganancia esperada para el jugador después de 100 lanzamientos?"
   ]
  },
  {
   "cell_type": "markdown",
   "metadata": {},
   "source": [
    "### Solucion Ejercicio 1"
   ]
  },
  {
   "cell_type": "code",
   "execution_count": 2,
   "metadata": {},
   "outputs": [],
   "source": [
    "import numpy as np\n",
    "import matplotlib.pyplot as plt\n",
    "import pandas as pd\n",
    "import os\n",
    "import scipy.stats as st"
   ]
  },
  {
   "cell_type": "markdown",
   "metadata": {},
   "source": [
    "**Alumno 1 GS:**"
   ]
  },
  {
   "cell_type": "code",
   "execution_count": 1,
   "metadata": {},
   "outputs": [],
   "source": [
    "# Solucion codigo"
   ]
  },
  {
   "cell_type": "markdown",
   "metadata": {},
   "source": [
    "**Alumnos 2 EG:**"
   ]
  },
  {
   "cell_type": "code",
   "execution_count": 3,
   "metadata": {},
   "outputs": [
    {
     "data": {
      "text/plain": [
       "(0.1598, 0.00038, 0.0)"
      ]
     },
     "execution_count": 3,
     "metadata": {},
     "output_type": "execute_result"
    }
   ],
   "source": [
    "# Solucion codigo\n",
    "n = 100000\n",
    "\n",
    "dado1 = np.random.randint(1, 7, size = n)\n",
    "dado2 = np.random.binomial(5, 0.5, size = n)\n",
    "dado3 = np.random.binomial(5, 0.2, size = n)\n",
    "\n",
    "suma = dado1 + dado2 + dado3\n",
    "\n",
    "c7 = np.count_nonzero(suma == 7)\n",
    "c14 = np.count_nonzero(suma == 14)\n",
    "c18 = np.count_nonzero(suma == 18)\n",
    "\n",
    "prob7 = c7 / n\n",
    "prob14 = c14 / n\n",
    "prob18 = c18 / n\n",
    "\n",
    "prob7, prob14, prob18"
   ]
  },
  {
   "cell_type": "markdown",
   "metadata": {},
   "source": [
    "La probabilidad de que sea _7_ es de 15.98%, de que sea _14_ es de 0.038% y de que salga _18_ es de 0%"
   ]
  },
  {
   "cell_type": "markdown",
   "metadata": {},
   "source": [
    "### Solucion Ejercicio 2"
   ]
  },
  {
   "cell_type": "markdown",
   "metadata": {},
   "source": [
    "**Alumno 1 GS:**"
   ]
  },
  {
   "cell_type": "code",
   "execution_count": 3,
   "metadata": {},
   "outputs": [],
   "source": [
    "# Solucion codigo"
   ]
  },
  {
   "cell_type": "markdown",
   "metadata": {},
   "source": [
    "**Alumno 2 EG:**"
   ]
  },
  {
   "cell_type": "code",
   "execution_count": 11,
   "metadata": {
    "scrolled": true
   },
   "outputs": [
    {
     "name": "stdout",
     "output_type": "stream",
     "text": [
      "La probabilidad de que el jugador gane dinero después de 100 lanzamientos es: 46.02053813064108\n"
     ]
    }
   ],
   "source": [
    "# Solucion codigo\n",
    "from scipy.stats import binom\n",
    "\n",
    "n = 100  \n",
    "p = 0.5 \n",
    "q = 1 - p\n",
    "# Crear una distribución binomial\n",
    "dist = binom(n, p)\n",
    "\n",
    "# Calcular la probabilidad de que el jugador gane dinero\n",
    "probabilidad_ganar = dist.sf(50)*100\n",
    "\n",
    "print(\"La probabilidad de que el jugador gane dinero después de 100 lanzamientos es:\", probabilidad_ganar)"
   ]
  },
  {
   "cell_type": "code",
   "execution_count": 14,
   "metadata": {},
   "outputs": [
    {
     "name": "stdout",
     "output_type": "stream",
     "text": [
      "La ganancia esperada para el jugador después de 100 lanzamientos con las nuevas reglas del juego es: -1.1102230246251565e-14\n"
     ]
    }
   ],
   "source": [
    "# Cambiar la probabilidad de ganar en un solo lanzamiento según las nuevas reglas del juego\n",
    "p_nuevo = 2/6  # Probabilidad de ganar si el casino paga $2 si el resultado es par\n",
    "q_nuevo = 1 - p_nuevo  # Probabilidad de perder\n",
    "\n",
    "# Crear una nueva distribución binomial con las nuevas probabilidades\n",
    "dist_nuevo = binom(n, p_nuevo)\n",
    "\n",
    "# Calcular la ganancia esperada para el jugador después de 100 lanzamientos\n",
    "ganancia_esperada = (p_nuevo * 2 - q_nuevo) * n  # Se multiplica por 2 porque el casino paga $2 si el resultado es par\n",
    "\n",
    "print(\"La ganancia esperada para el jugador después de 100 lanzamientos con las nuevas reglas del juego es:\", ganancia_esperada)\n"
   ]
  },
  {
   "cell_type": "code",
   "execution_count": null,
   "metadata": {},
   "outputs": [],
   "source": []
  }
 ],
 "metadata": {
  "kernelspec": {
   "display_name": "Python 3 (ipykernel)",
   "language": "python",
   "name": "python3"
  },
  "language_info": {
   "codemirror_mode": {
    "name": "ipython",
    "version": 3
   },
   "file_extension": ".py",
   "mimetype": "text/x-python",
   "name": "python",
   "nbconvert_exporter": "python",
   "pygments_lexer": "ipython3",
   "version": "3.9.13"
  }
 },
 "nbformat": 4,
 "nbformat_minor": 2
}
